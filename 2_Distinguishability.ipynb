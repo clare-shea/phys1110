{
  "cells": [
    {
      "cell_type": "markdown",
      "metadata": {
        "id": "view-in-github",
        "colab_type": "text"
      },
      "source": [
        "<a href=\"https://colab.research.google.com/github/clare-shea/phys1110/blob/main/2_Distinguishability.ipynb\" target=\"_parent\"><img src=\"https://colab.research.google.com/assets/colab-badge.svg\" alt=\"Open In Colab\"/></a>"
      ]
    },
    {
      "cell_type": "markdown",
      "metadata": {
        "id": "rD2NRQdF21rq"
      },
      "source": [
        "## Tutorial 3: Distinguishability\n",
        "Developed by Rebeckah Fussell for Cornell Physics Labs.\n",
        "Modified by Abigail Crites for SP-23-PHYS1110."
      ]
    },
    {
      "cell_type": "markdown",
      "metadata": {
        "id": "-jRjZ5kx21rs"
      },
      "source": [
        "In this tutorial we will continue to apply the concepts of mean, standard deviation, and standard uncertainty of the mean. We will also learn about how to compare the means of different data sets and test for distinguishability.\n",
        "\n",
        "Before we get started, let's load some packages and define the functions for standard deviation and standard uncertainty of the mean. These functions are identical to the ones in the previous tutorial.\n",
        "\n",
        "Make sure to run the cell below before proceeding (SHIFT + ENTER). As always, remember code cells build on each other, so run each in order. Additionally, do not change the names of any variables already given to you. This will cause the autograder to throw an error and require you to fix your homework submission."
      ]
    },
    {
      "cell_type": "code",
      "execution_count": null,
      "metadata": {
        "colab": {
          "base_uri": "https://localhost:8080/"
        },
        "id": "kpprRGDa21rt",
        "outputId": "3fb0bcac-e5eb-4291-80c9-e6f77ccc3563"
      },
      "outputs": [
        {
          "output_type": "stream",
          "name": "stdout",
          "text": [
            "Mounted at /content/drive/\n"
          ]
        }
      ],
      "source": [
        "%matplotlib inline\n",
        "from google.colab import drive\n",
        "drive.mount(\"/content/drive/\", force_remount=True)\n",
        "%run \"/content/drive/My Drive/Colab Notebooks/utilities2.ipynb\""
      ]
    },
    {
      "cell_type": "markdown",
      "metadata": {
        "id": "AnsmZt3T21ru"
      },
      "source": [
        "## Part 1: Distinguishability\n",
        "\n",
        "Often we need to determine if two sets of measurements represent the same underlying phenomenon. For example, in class, we measured the period of the pendulum when starting and stopping the stopwatch at the turning point and at the lowest point. In this scenario, we want to know if these two measurements are systematically different: is one an overestimate? an underestimate?\n",
        "\n",
        "Even if we are measuring the same phenomena, we would still expect to see some difference in the two data sets based on random variability. What we want to know is whether the two sets of measurements are distinguishable or not: given the expected variability, I can tell the difference between these two sets of measurements?\n",
        "\n",
        "To estimate the distinguishability, a quantitative method should:\n",
        "\n",
        "1. Take into account the difference between the means of the two data sets, such that a larger difference means the values are more distinguishable (I can tell them apart).\n",
        "2. Take into account the uncertainty of the means of the two data sets, such that the difference in the means is balanced by how well we know the measurements.\n",
        "3. Not depend on units (so we can use the same criteria to distinguish all kinds of data).\n",
        "\n",
        "\n",
        "To make comparisons between two sets of measurements with uncertainties $A \\pm \\delta_A$ and $B \\pm \\delta_B$, we use a quantity known as $t'$, which we define as:\n",
        "\n",
        "$$t' = |\\frac{A-B}{\\sqrt{\\delta_A^2 + \\delta_B^2}}|$$\n",
        "\n",
        "$A$ and $B$ might be the means for two sets of repeated measurements, such as our means of repeated measurements of the period of pendula when measured from the turning point and from the lowest point. $\\delta$ should be read as \"uncertainty in\", so $\\delta_A$ and $\\delta_B$ are the uncertainties in the measurements A and B (*not* the uncertainty times the measurements).\n"
      ]
    },
    {
      "cell_type": "markdown",
      "metadata": {
        "id": "a4H-Uszw21ru"
      },
      "source": [
        "### 1.a)  Briefly map the parts of the formula for $t^\\prime$ to the three properties above. \n",
        "\n",
        "Answer: A and B are the two data sets. The numerator is the difference between the sets. The denominator is the square root of the sum of the uncertainties of the two data sets."
      ]
    },
    {
      "cell_type": "markdown",
      "metadata": {
        "id": "sXy1bqCq21ru"
      },
      "source": [
        "### 1.b) Say we measure A = 2 ± 1 s and B = 8 ± 1 s. Intuitively, would you say that A and B are distinguishable (I can tell them apart) or indistinguishable (I can't tell them apart)?\n",
        "\n",
        "Answer: Yes, I would say they're distinguishable"
      ]
    },
    {
      "cell_type": "markdown",
      "metadata": {
        "id": "r2fDVsFR21rv"
      },
      "source": [
        "### 1.c) What about if the uncertainties were larger: are A= 2 ± 5 s and B= 8 ± 5 s distinguishable? \n",
        "\n",
        "Answer: No, I would say they weren't"
      ]
    },
    {
      "cell_type": "markdown",
      "metadata": {
        "id": "bovr12Xv21rv"
      },
      "source": [
        "### 1.d) Run the code below to calculate the $t^\\prime$ value for these two sets of measurements, filling in the ... with the measurements from 1.c).  "
      ]
    },
    {
      "cell_type": "code",
      "execution_count": null,
      "metadata": {
        "id": "i4n5o-0421rv",
        "colab": {
          "base_uri": "https://localhost:8080/"
        },
        "outputId": "0f1d38ce-265b-457e-909d-30daff073824"
      },
      "outputs": [
        {
          "output_type": "stream",
          "name": "stdout",
          "text": [
            "The t' for a is 4.2426\n",
            "The t' for b is 0.8485\n"
          ]
        }
      ],
      "source": [
        "# an example of using t_prime\n",
        "t_a = t_prime(2,1,8,1)\n",
        "\n",
        "# second example\n",
        "t_b = t_prime(2,5,8,5)\n",
        "\n",
        "print(\"The t' for a is \" + str(\"%.4f\" % t_a))\n",
        "print(\"The t' for b is \" + str(\"%.4f\" % t_b))"
      ]
    },
    {
      "cell_type": "markdown",
      "metadata": {
        "id": "xVbf1Rjm21rv"
      },
      "source": [
        "## Part 2: Exploring $t^\\prime$\n",
        "You can think of $t^\\prime$ as telling us how far apart the measurements are in \"units\" of uncertainty.  The larger the $t^\\prime$ value, the more we can tell the measurements apart, given our uncertainty. \n",
        "\n",
        "Below, we have two sets of measurements (one in blue and one in orange).  They each have a mean (``m1`` and ``m2``), number of measurements (``N1`` and ``N2``), and a standard deviation (``stdev1`` and ``stdev2``).  \n",
        "\n",
        "### 2.a) Run the code below and change the values of the means, number of measurements, and standard deviations. "
      ]
    },
    {
      "cell_type": "code",
      "execution_count": null,
      "metadata": {
        "id": "-GE4RiAv21rw",
        "colab": {
          "base_uri": "https://localhost:8080/",
          "height": 384
        },
        "outputId": "2ffa8970-c1a8-41f0-93bb-c0ccd2841a75"
      },
      "outputs": [
        {
          "output_type": "display_data",
          "data": {
            "text/plain": [
              "<Figure size 375x375 with 1 Axes>"
            ],
            "image/png": "[encoded data removed]"
          },
          "metadata": {
            "needs_background": "light"
          }
        }
      ],
      "source": [
        "%matplotlib inline\n",
        "m1=0 #change me!\n",
        "m2=0 #change me!\n",
        "N1=20 #change me!\n",
        "N2=20 #change me!\n",
        "stdev1=.9 #change me!\n",
        "stdev2=.25 #change me!\n",
        "\n",
        "fig, ax=plt.subplots(1,1, figsize=(5,5), dpi=75)\n",
        "ax.cla()\n",
        "x=np.linspace(-1, 2, 1000)\n",
        "ax.fill_between(x,np.e**(-(x-m1)**2/stdev1**2),alpha=.5)\n",
        "ax.fill_between(x,np.e**(-(x-m2)**2/stdev2**2), alpha=.5)\n",
        "ax.errorbar(m1, 1, xerr=stdev1/np.sqrt(N1), capsize=5)\n",
        "ax.errorbar(m2, 1, xerr=stdev2/np.sqrt(N2), capsize=5)\n",
        "ax.set_title(\"t'={}\".format(round((m1-m2)/np.sqrt(stdev1**2/N1+stdev2**2/N2), 3)))\n",
        "fig.canvas.draw_idle() \n",
        "plt.tight_layout()   \n",
        "fig.show()       "
      ]
    },
    {
      "cell_type": "markdown",
      "metadata": {
        "id": "CpPTdF0N21rw"
      },
      "source": [
        "### 2.b) What happens when you change the values of the means, standard deviations, and N?\n",
        "\n",
        "Answer: Changing the means separates the curves. Changing stdv changes how wide the curve is. Changing N changes the width of the error bars."
      ]
    },
    {
      "cell_type": "markdown",
      "metadata": {
        "id": "iSD4WUU_21rw"
      },
      "source": [
        "## Part 3: Interpreting $t^\\prime$ values\n",
        "\n",
        "If we have two sets of measurements of the same physical phenomenon, we would expect to see a $t^\\prime$ value of approximately 1 on average. If $t^\\prime \\approx 1$, then: \n",
        "\n",
        "$$|A-B| \\approx \\sqrt{\\delta_A^2 + \\delta_B^2}$$\n",
        "\n",
        "This would mean that the difference between the two sets of measurements is around the size of the uncertainty in those measurements. \n",
        "\n",
        "### 3.a) Given that the uncertainty represents how much we expect our data to vary, why do we say that a $t^\\prime \\approx 1$ means the two sets of measurements may be measuring the same physical phenonemon? \n",
        "\n",
        "Answer: because due to human and measurement error, the same data set can be recorded by different measurements."
      ]
    },
    {
      "cell_type": "markdown",
      "metadata": {
        "id": "NwHg-wnq21rw"
      },
      "source": [
        "\n",
        "After calculating $t^\\prime$ for two measurements, you can evaluate their distinguishability through the following interpretation:\n",
        "\n",
        "\n",
        "1.  $t^\\prime\\approx1$  The measurements are indistinguishible and they may represent the same physical phenomenon.   \n",
        "\n",
        "2.  $t^\\prime<<1$  The measurements are indistinguishable, and it is possible that either we overestimated our uncertainties or that our current level of precision is not good enough to distinguish the phenomenon that we are trying to measure.  \n",
        "\n",
        "3.  $1\\lesssim t^\\prime<3$  This is a grey area.  Our two measurements may come from the same phenomenon, but it is less likely than if our $t^\\prime$ is somewhere close to 1. \n",
        "\n",
        "4.  $t^\\prime >3$ The measurements are distinguishable and it is unlikely that they represent the same phenomena.\n",
        "\n",
        "\n",
        "NOTE: $|t^\\prime| \\le 1$ **does not** mean that A and B are the same. It only tells us that the given data cannot distinguish (tell the difference between) the two sets. For example, if you do a better measurement and decrease the uncertainties, you might later uncover a difference between A and B. That is, poor precision may be hiding a subtle difference!"
      ]
    },
    {
      "cell_type": "markdown",
      "metadata": {
        "id": "zXvL4-Pa21rw"
      },
      "source": [
        "### 3.b)  Based on these interpretations and your exploration above, what do you think we should do next in each of these 4 scenarios?"
      ]
    },
    {
      "cell_type": "markdown",
      "metadata": {
        "id": "y_NCuc6r21rx"
      },
      "source": [
        "1. $t'\\approx1$: conclude that the data are from the same set\n",
        "\n"
      ]
    },
    {
      "cell_type": "markdown",
      "metadata": {
        "id": "uW21L2vp21rx"
      },
      "source": [
        "2. $t'<<1$: perform the experiment using tools with a higher level of precision"
      ]
    },
    {
      "cell_type": "markdown",
      "metadata": {
        "id": "mqGkp1gY21rx"
      },
      "source": [
        "3. $1\\lesssim t'<3$: perform the experiment again"
      ]
    },
    {
      "cell_type": "markdown",
      "metadata": {
        "id": "CLtcE9yx21rx"
      },
      "source": [
        "4. $t' >3$: conclude the data are from different sets"
      ]
    },
    {
      "cell_type": "markdown",
      "metadata": {
        "id": "eMKIweRJ21rx"
      },
      "source": [
        "## Part 4: Example Problem\n",
        "\n",
        "Let's try an example problem. An experimenter measured the period of a pendulum at 10 degrees and 20 degrees using a simple stopwatch. They measured the time for the pendulum to swing for one single period and conducted 14 trials for each angle. The data they collected is given in the first lines of code below. The code then generates a histogram so we can visualize the distribution of our data. \n",
        "\n",
        "### 4.a) Run the code cell below. "
      ]
    },
    {
      "cell_type": "code",
      "execution_count": null,
      "metadata": {
        "id": "WAJA-j8A21rx",
        "colab": {
          "base_uri": "https://localhost:8080/",
          "height": 399
        },
        "outputId": "66d8bfce-187e-4f25-bc0b-e08670e2eff6"
      },
      "outputs": [
        {
          "output_type": "display_data",
          "data": {
            "text/plain": [
              "<Figure size 300x200 with 1 Axes>"
            ],
            "image/png": "[encoded data removed]"
          },
          "metadata": {
            "needs_background": "light"
          }
        },
        {
          "output_type": "display_data",
          "data": {
            "text/plain": [
              "<Figure size 300x200 with 1 Axes>"
            ],
            "image/png": "[encoded data removed]"
          },
          "metadata": {
            "needs_background": "light"
          }
        }
      ],
      "source": [
        "#enter pendulum period data\n",
        "plt.figure(dpi=50)\n",
        "ten_degs = np.array([1.23, 1.36, 1.35, 1.36, 1.30, 1.27, 1.30, 1.32, 1.26, 1.26, 1.38, 1.29, 1.29, 1.32])\n",
        "twenty_degs = np.array([1.37, 1.35, 1.38, 1.27, 1.33, 1.33, 1.26, 1.36, 1.36, 1.27, 1.29, 1.44, 1.29, 1.32])\n",
        "\n",
        "#plot distributions\n",
        "plt.hist(ten_degs,bins = 7)\n",
        "plt.title(\"Histogram of pendulum period at 10 degrees\")\n",
        "plt.ylabel('Counts')\n",
        "plt.xlabel('Period s')\n",
        "\n",
        "plt.figure(dpi=50);\n",
        "plt.hist(twenty_degs,bins = 7)\n",
        "plt.title(\"Histogram of pendulum period at 20 degrees\")\n",
        "plt.ylabel('Counts')\n",
        "plt.xlabel('Period s')\n",
        "plt.show()"
      ]
    },
    {
      "cell_type": "markdown",
      "metadata": {
        "id": "uTe-NtFT21rx"
      },
      "source": [
        "### 4.b) Calculate standard deviation of the 10 degree data set. *Hint: replace the dots with the name of the ten degree data array as it was defined in the previous cell.*"
      ]
    },
    {
      "cell_type": "code",
      "execution_count": null,
      "metadata": {
        "id": "nNRxWJ0921rx",
        "colab": {
          "base_uri": "https://localhost:8080/"
        },
        "outputId": "88006855-3c4e-4369-ac48-1ff33d2faa5b"
      },
      "outputs": [
        {
          "output_type": "stream",
          "name": "stdout",
          "text": [
            "The standard deviation is 0.0443\n"
          ]
        }
      ],
      "source": [
        "stdev_10deg = std_dev(ten_degs)\n",
        "print(\"The standard deviation is \" + str(\"%.4f\" % stdev_10deg))"
      ]
    },
    {
      "cell_type": "markdown",
      "metadata": {
        "id": "7n4eiVK421ry"
      },
      "source": [
        "### 4.c) Calculate standard deviation of the 20 degree data set."
      ]
    },
    {
      "cell_type": "code",
      "execution_count": null,
      "metadata": {
        "id": "BfyeHaUe21ry",
        "colab": {
          "base_uri": "https://localhost:8080/"
        },
        "outputId": "ff04f7bf-401b-404b-889c-231b78174e94"
      },
      "outputs": [
        {
          "output_type": "stream",
          "name": "stdout",
          "text": [
            "The standard deviation is 0.0510s\n"
          ]
        }
      ],
      "source": [
        "stdev_20deg = std_dev(twenty_degs)\n",
        "print(\"The standard deviation is \" + str(\"%.4f\" % stdev_20deg) + \"s\")"
      ]
    },
    {
      "cell_type": "markdown",
      "metadata": {
        "id": "1AmE-VwS21ry"
      },
      "source": [
        "### 4.d)  The stopwatch reads to the nearest 0.01s, so the rounding uncertainty is 0.005s. Based on the data, is the dominant source of uncertainty in this measurement due to the **instrumental precision** or the variability between repeated trials? \n",
        "\n",
        "Answer: variability between trials\n",
        "\n",
        "---"
      ]
    },
    {
      "cell_type": "markdown",
      "metadata": {
        "id": "p49t9FyO21ry"
      },
      "source": [
        "### 4.e)  Calculate the uncertainty in a <u>*single*</u> trial of each set of measurements for the period of this pendulum from: i) ten degrees and ii) twenty degrees. \n",
        "#### Hint: you will need to call one of the functions defined above (``std_dev()``, ``std_unc()``, or ``t_prime()``)."
      ]
    },
    {
      "cell_type": "code",
      "execution_count": null,
      "metadata": {
        "id": "dAz7Oupw21ry",
        "colab": {
          "base_uri": "https://localhost:8080/"
        },
        "outputId": "98aff5a5-c729-46d5-c3f0-7c4ac1aa9887"
      },
      "outputs": [
        {
          "output_type": "stream",
          "name": "stdout",
          "text": [
            "Ten degrees: The uncertainty in a single trial is 0.0118 s\n",
            "Twenty degrees: The uncertainty in a single trial is 0.0136 s\n"
          ]
        }
      ],
      "source": [
        "unc_single_10deg = std_unc(ten_degs)\n",
        "unc_single_20deg = std_unc(twenty_degs)\n",
        "print(\"Ten degrees: The uncertainty in a single trial is \" + str(\"%.4f\" % unc_single_10deg) + \" s\")\n",
        "print(\"Twenty degrees: The uncertainty in a single trial is \" + str(\"%.4f\" % unc_single_20deg) + \" s\")"
      ]
    },
    {
      "cell_type": "markdown",
      "metadata": {
        "id": "qQsdBtXf21ry"
      },
      "source": [
        "### 4.f)  Calculate the mean of each set of measurements of the period of this pendulum, including its uncertainty, from: i) ten degrees and ii) twenty degrees. We've provided a template, and you have to replace each ... with the relevant variable name or function call. "
      ]
    },
    {
      "cell_type": "code",
      "execution_count": null,
      "metadata": {
        "id": "XmNTJJ0d21rz",
        "colab": {
          "base_uri": "https://localhost:8080/"
        },
        "outputId": "b2fbecbb-7079-4dc5-f747-0292b18b8706"
      },
      "outputs": [
        {
          "output_type": "stream",
          "name": "stdout",
          "text": [
            "Ten degrees: mean is 1.3064 +/- 0.0118 s\n"
          ]
        }
      ],
      "source": [
        "#edit two lines below\n",
        "mean_10 = np.mean(ten_degs)\n",
        "unc_10 = std_unc(ten_degs)\n",
        "print(\"Ten degrees: mean is \" + str(\"%.4f\" % mean_10) + \" +/- \" + str(\"%.4f\" % unc_10) + \" s\")"
      ]
    },
    {
      "cell_type": "code",
      "execution_count": null,
      "metadata": {
        "id": "Z9nTK5ZJ21rz",
        "colab": {
          "base_uri": "https://localhost:8080/"
        },
        "outputId": "cf2e5dc3-2912-4e20-c56f-45263a919f61"
      },
      "outputs": [
        {
          "output_type": "stream",
          "name": "stdout",
          "text": [
            "Twenty degrees: mean is 1.3300 +/- 0.0136 s\n"
          ]
        }
      ],
      "source": [
        "#edit two lines below\n",
        "mean_20 = np.mean(twenty_degs)\n",
        "unc_20 = std_unc(twenty_degs)\n",
        "\n",
        "print(\"Twenty degrees: mean is \" + str(\"%.4f\" % mean_20) + \" +/- \" + str(\"%.4f\" % unc_20) + \" s\")\n",
        "\n"
      ]
    },
    {
      "cell_type": "markdown",
      "metadata": {
        "id": "SmCK20x821rz"
      },
      "source": [
        "### 4.g) Calculate the $t^\\prime$ between the measurements of the period of this pendulum when released from 10 degrees and 20 degrees. Replace the ... in the ``t_prime`` call with the relevant uncertainties and the ... in the ``print`` call with your interpretation of the t' value. "
      ]
    },
    {
      "cell_type": "code",
      "execution_count": null,
      "metadata": {
        "id": "uwffjP6W21rz",
        "colab": {
          "base_uri": "https://localhost:8080/"
        },
        "outputId": "42a4a2fe-bcc2-4e93-866d-c02f3ab81163"
      },
      "outputs": [
        {
          "output_type": "stream",
          "name": "stdout",
          "text": [
            "The t' value is 1.3056170041744388which means the two measurements are quite similar\n"
          ]
        }
      ],
      "source": [
        "t_p = t_prime(mean_10, unc_10, mean_20, unc_20)\n",
        "print(\"The t' value is \" + str(t_p) + \"which means the two measurements are quite similar\")"
      ]
    },
    {
      "cell_type": "markdown",
      "metadata": {
        "id": "2zf6W08U21r0"
      },
      "source": [
        "## Using t' in your own data analysis\n",
        "\n",
        "The rest of the code below gives you a template to start analyzing your data in Unit 1 Session 2. "
      ]
    },
    {
      "cell_type": "code",
      "execution_count": null,
      "metadata": {
        "id": "vSsnHgBb21r0",
        "colab": {
          "base_uri": "https://localhost:8080/"
        },
        "outputId": "8063ca2b-ad99-4e85-b8e9-4c2335918af1"
      },
      "outputs": [
        {
          "output_type": "stream",
          "name": "stdout",
          "text": [
            "mean 10 degrees part 1 is : 1.816 +/- 0.02339040639046511\n",
            "mean 10 degrees part 2 is : 17.876666666666665 +/- 0.02027587510099412\n",
            "mean 10 degrees with cable is : 1.643 +/- 0.016333333333333325\n",
            "uncertainty cable 100.016333333333333325\n",
            "mean 20 degrees part 1 is : 1.8229999999999997 +/- 0.031939178309892534\n",
            "mean 20 degrees part 2 is : 17.956666666666667 +/- 0.034801021696368784\n",
            "uncertainty twentytwo 200.034801021696368784\n",
            "mean 20 degrees with cable is : 1.645 +/- 0.011571036638473173\n",
            "uncertainty cable 200.011571036638473173\n",
            "t prime for trial 1 is : 0.17682055504058522\n",
            "t prime for trial 2 is : 1.9862541326457153\n",
            "t prime for CABLES is : 0.09991677068886824\n"
          ]
        }
      ],
      "source": [
        "#calculate mean and uncertainty in the mean for your 10 degree measurements:\n",
        "data_tenone = np.array([1.69, 1.81, 1.83, 1.82, 1.91, 1.85, 1.84, 1.80, 1.91, 1.70])\n",
        "mean_tenone = np.mean([1.69, 1.81, 1.83, 1.82, 1.91, 1.85, 1.84, 1.80, 1.91, 1.70])\n",
        "unc_tenone = std_unc([1.69, 1.81, 1.83, 1.82, 1.91, 1.85, 1.84, 1.80, 1.91, 1.70])\n",
        "print(\"mean 10 degrees part 1 is : \" + str(mean_tenone) + \" +/- \" + str(unc_tenone))\n",
        "\n",
        "#second trial\n",
        "data_tentwo = np.array([17.88, 17.84, 17.91])\n",
        "mean_tentwo = np.mean([17.88, 17.84, 17.91])\n",
        "unc_tentwo = std_unc([17.88, 17.84, 17.91])\n",
        "print(\"mean 10 degrees part 2 is : \" + str(mean_tentwo) + \" +/- \" + str(unc_tentwo))\n",
        "\n",
        "#CABLE trial 10 degrees\n",
        "data_tencable = np.array([1.76, 1.61, 1.59, 1.68, 1.63, 1.66, 1.63, 1.63, 1.58, 1.66,])\n",
        "mean_tencable = np.mean([1.76, 1.61, 1.59, 1.68, 1.63, 1.66, 1.63, 1.63, 1.58, 1.66,])\n",
        "unc_tencable = std_unc([1.76, 1.61, 1.59, 1.68, 1.63, 1.66, 1.63, 1.63, 1.58, 1.66,])\n",
        "print(\"mean 10 degrees with cable is : \" + str(mean_tencable) + \" +/- \" + str(unc_tencable))\n",
        "print(\"uncertainty cable 10\" + str(unc_tencable))\n",
        "\n",
        "\n",
        "#calculate mean and uncertainty in the mean for your 20 degree measurements:\n",
        "data_twentyone = np.array([1.61, 1.89, 1.89, 1.89, 1.81, 1.81, 1.82, 1.74, 1.98, 1.79])\n",
        "mean_twentyone = np.mean([1.61, 1.89, 1.89, 1.89, 1.81, 1.81, 1.82, 1.74, 1.98, 1.79])\n",
        "unc_twentyone = std_unc([1.61, 1.89, 1.89, 1.89, 1.81, 1.81, 1.82, 1.74, 1.98, 1.79])\n",
        "print(\"mean 20 degrees part 1 is : \" + str(mean_twentyone) + \" +/- \" + str(unc_twentyone))\n",
        "\n",
        "#second trial\n",
        "data_twentytwo = np.array([17.9, 18.02, 17.95])\n",
        "mean_twentytwo = np.mean([17.9, 18.02, 17.95])\n",
        "unc_twentytwo = std_unc([17.9, 18.02, 17.95])\n",
        "print(\"mean 20 degrees part 2 is : \" + str(mean_twentytwo) + \" +/- \" + str(unc_twentytwo))\n",
        "print(\"uncertainty twentytwo 20\" + str(unc_twentytwo))\n",
        "\n",
        "#CABLE trial 20 degrees\n",
        "data_twentycable = np.array([1.71, 1.59, 1.68, 1.64, 1.64, 1.64, 1.64, 1.66, 1.66, 1.59])\n",
        "mean_twentycable = np.mean([1.71, 1.59, 1.68, 1.64, 1.64, 1.64, 1.64, 1.66, 1.66, 1.59])\n",
        "unc_twentycable = std_unc([1.71, 1.59, 1.68, 1.64, 1.64, 1.64, 1.64, 1.66, 1.66, 1.59])\n",
        "print(\"mean 20 degrees with cable is : \" + str(mean_twentycable) + \" +/- \" + str(unc_twentycable))\n",
        "print(\"uncertainty cable 20\" + str(unc_twentycable))\n",
        "\n",
        "#are they distinguishable?\n",
        "tp10 = t_prime(mean_tenone, unc_tenone, mean_twentyone, unc_twentyone)\n",
        "print(\"t prime for trial 1 is : \" + str(tp10))\n",
        "tp20 = t_prime(mean_tentwo, unc_tentwo, mean_twentytwo, unc_twentytwo)\n",
        "print(\"t prime for trial 2 is : \" + str(tp20))\n",
        "tpc10 = t_prime(mean_twentycable, unc_twentycable, mean_tencable, unc_tencable)\n",
        "print(\"t prime for CABLES is : \" + str(tpc10))\n"
      ]
    },
    {
      "cell_type": "markdown",
      "metadata": {
        "id": "evdzRGfF21r0"
      },
      "source": [
        "Save your notebook with all your answers to the questions, modified code cells, and output from each code cell. Submit your notebook by uploading it to the Gradescope assignment. Make sure it is named <span style='font-family:Courier'>2_Distinguishability.ipynb</span> before submitting."
      ]
    }
  ],
  "metadata": {
    "colab": {
      "provenance": [],
      "include_colab_link": true
    },
    "kernelspec": {
      "display_name": "Python 3 (ipykernel)",
      "language": "python",
      "name": "python3"
    },
    "language_info": {
      "codemirror_mode": {
        "name": "ipython",
        "version": 3
      },
      "file_extension": ".py",
      "mimetype": "text/x-python",
      "name": "python",
      "nbconvert_exporter": "python",
      "pygments_lexer": "ipython3",
      "version": "3.9.12"
    }
  },
  "nbformat": 4,
  "nbformat_minor": 0
}